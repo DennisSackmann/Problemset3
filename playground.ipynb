{
 "cells": [
  {
   "cell_type": "code",
   "execution_count": 13,
   "id": "993396c9",
   "metadata": {},
   "outputs": [],
   "source": [
    "# import libraries\n",
    "import numpy as np\n",
    "import pandas as pd\n"
   ]
  },
  {
   "cell_type": "code",
   "execution_count": 20,
   "id": "cc2ebd04",
   "metadata": {},
   "outputs": [],
   "source": [
    "# read data\n",
    "data = pd.read_parquet('data/spx_ivs_2023-02.parquet')\n",
    "data['date'] = pd.to_datetime(data[\"loctimestamp\"], unit=\"ms\").dt.date"
   ]
  },
  {
   "cell_type": "code",
   "execution_count": null,
   "id": "7ead1e00",
   "metadata": {},
   "outputs": [
    {
     "name": "stdout",
     "output_type": "stream",
     "text": [
      "         date  variance  third_moment\n",
      "0  2023-02-01  0.002480      0.000036\n",
      "1  2023-02-02  0.002853      0.000036\n",
      "2  2023-02-03  0.002422      0.000036\n",
      "3  2023-02-06  0.002840      0.000036\n",
      "4  2023-02-07  0.002515      0.000036\n"
     ]
    }
   ],
   "source": [
    "# Datei laden\n",
    "df = pd.read_parquet(\"data/spx_ivs_2023-02.parquet\")\n",
    "df[\"date\"] = pd.to_datetime(df[\"loctimestamp\"], unit=\"ms\").dt.date\n",
    "df = df[df[\"daystomaturity\"] == 30].copy()\n",
    "\n",
    "# Gruppieren nach Datum\n",
    "grouped = df.groupby(\"date\")\n",
    "results = []\n",
    "\n",
    "for date, group in grouped:\n",
    "    S = group[\"underlyingprice\"].iloc[0]\n",
    "\n",
    "    calls = group[(group[\"putcall\"] == \"C\") & (group[\"strike\"] >= S)].sort_values(\"strike\")\n",
    "    puts = group[(group[\"putcall\"] == \"P\") & (group[\"strike\"] < S)].sort_values(\"strike\")\n",
    "\n",
    "    Kc, Cc = calls[\"strike\"].values, calls[\"implPrice\"].values\n",
    "    Kp, Pp = puts[\"strike\"].values, puts[\"implPrice\"].values\n",
    "\n",
    "    # --- 2. Moment: Varianz ---\n",
    "    Vc_integrand = (2 * (1 - np.log(Kc / S))) / (Kc ** 2) * Cc\n",
    "    Vp_integrand = (2 * (1 + np.log(S / Kp))) / (Kp ** 2) * Pp\n",
    "    V = np.trapz(Vc_integrand, Kc) + np.trapz(Vp_integrand, Kp)\n",
    "\n",
    "    results.append({\"date\": date, \"variance\": V, \"third_moment\": W})\n",
    "\n",
    "# Ergebnis als DataFrame\n",
    "df_moments = pd.DataFrame(results)\n",
    "print(df_moments.head())\n"
   ]
  },
  {
   "cell_type": "code",
   "execution_count": null,
   "id": "629cd33f",
   "metadata": {},
   "outputs": [],
   "source": []
  }
 ],
 "metadata": {
  "kernelspec": {
   "display_name": "Python 3",
   "language": "python",
   "name": "python3"
  },
  "language_info": {
   "codemirror_mode": {
    "name": "ipython",
    "version": 3
   },
   "file_extension": ".py",
   "mimetype": "text/x-python",
   "name": "python",
   "nbconvert_exporter": "python",
   "pygments_lexer": "ipython3",
   "version": "3.12.2"
  }
 },
 "nbformat": 4,
 "nbformat_minor": 5
}
